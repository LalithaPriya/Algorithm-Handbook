{
  "nbformat": 4,
  "nbformat_minor": 0,
  "metadata": {
    "colab": {
      "provenance": [],
      "authorship_tag": "ABX9TyOptNudLrgYznb9kRFxHDqW",
      "include_colab_link": true
    },
    "kernelspec": {
      "name": "python3",
      "display_name": "Python 3"
    },
    "language_info": {
      "name": "python"
    }
  },
  "cells": [
    {
      "cell_type": "markdown",
      "metadata": {
        "id": "view-in-github",
        "colab_type": "text"
      },
      "source": [
        "<a href=\"https://colab.research.google.com/github/LalithaPriya/Algorithm-Handbook/blob/main/FNN.ipynb\" target=\"_parent\"><img src=\"https://colab.research.google.com/assets/colab-badge.svg\" alt=\"Open In Colab\"/></a>"
      ]
    },
    {
      "cell_type": "code",
      "execution_count": null,
      "metadata": {
        "id": "a-Rzuw1MUlK8"
      },
      "outputs": [],
      "source": [
        "import torch\n",
        "import torch.nn as nn\n",
        "\n",
        "class FNN(nn.Module):\n",
        "    def __init__(self):\n",
        "        super(FNN, self).__init__()\n",
        "        self.fc1 = nn.Linear(784, 256)\n",
        "        self.fc2 = nn.Linear(256, 128)\n",
        "        self.fc3 = nn.Linear(128, 10)\n",
        "        self.relu = nn.ReLU()\n",
        "        self.softmax = nn.Softmax(dim=1)\n",
        "        \n",
        "    def forward(self, x):\n",
        "        x = self.relu(self.fc1(x))\n",
        "        x = self.relu(self.fc2(x))\n",
        "        x = self.softmax(self.fc3(x))\n",
        "        return x\n",
        "\n",
        "model = FNN()\n"
      ]
    },
    {
      "cell_type": "code",
      "source": [
        "import torch\n",
        "import torch.nn as nn\n",
        "import torch.optim as optim\n",
        "import torchvision.datasets as datasets\n",
        "import torchvision.transforms as transforms\n",
        "import matplotlib.pyplot as plt\n",
        "\n"
      ],
      "metadata": {
        "id": "0-jXb3VLW_sf"
      },
      "execution_count": null,
      "outputs": []
    },
    {
      "cell_type": "code",
      "source": [
        "# Set random seed for reproducibility\n",
        "torch.manual_seed(42)\n",
        "\n",
        "# Define FNN architecture\n",
        "class FNN(nn.Module):\n",
        "    def __init__(self):\n",
        "        super(FNN, self).__init__()\n",
        "        self.fc1 = nn.Linear(784, 256)\n",
        "        self.fc2 = nn.Linear(256, 128)\n",
        "        self.fc3 = nn.Linear(128, 10)\n",
        "        self.relu = nn.ReLU()\n",
        "        self.softmax = nn.Softmax(dim=1)\n",
        "        \n",
        "    def forward(self, x):\n",
        "        x = self.relu(self.fc1(x))\n",
        "        x = self.relu(self.fc2(x))\n",
        "        x = self.softmax(self.fc3(x))\n",
        "        return x\n",
        "\n"
      ],
      "metadata": {
        "id": "hna-bPSgY-1n"
      },
      "execution_count": null,
      "outputs": []
    },
    {
      "cell_type": "code",
      "source": [
        "# Load MNIST dataset\n",
        "train_dataset = datasets.MNIST(root='./data', train=True, transform=transforms.ToTensor(), download=True)\n",
        "test_dataset = datasets.MNIST(root='./data', train=False, transform=transforms.ToTensor(), download=True)\n",
        "\n",
        "# Define data loaders\n",
        "batch_size = 100\n",
        "train_loader = torch.utils.data.DataLoader(train_dataset, batch_size=batch_size, shuffle=True)\n",
        "test_loader = torch.utils.data.DataLoader(test_dataset, batch_size=batch_size, shuffle=False)\n"
      ],
      "metadata": {
        "id": "nOOoas0xZCgA"
      },
      "execution_count": null,
      "outputs": []
    },
    {
      "cell_type": "code",
      "source": [
        "\n",
        "# Initialize FNN model\n",
        "model = FNN()\n",
        "\n",
        "# Define loss function, optimizer, and number of epochs\n",
        "criterion = nn.CrossEntropyLoss()\n",
        "optimizer = optim.Adam(model.parameters(), lr=0.001)\n",
        "num_epochs = 10\n"
      ],
      "metadata": {
        "id": "70vVfsr1ZGDG"
      },
      "execution_count": null,
      "outputs": []
    },
    {
      "cell_type": "code",
      "source": [
        "\n",
        "# Train the model\n",
        "train_loss = []\n",
        "test_loss = []\n",
        "for epoch in range(num_epochs):\n",
        "    running_train_loss = 0.0\n",
        "    for i, (images, labels) in enumerate(train_loader):\n",
        "        # Flatten the images into a 784-dimensional vector\n",
        "        images = images.view(-1, 784)\n",
        "        \n",
        "        # Zero the gradients\n",
        "        optimizer.zero_grad()\n",
        "        \n",
        "        # Forward pass\n",
        "        outputs = model(images)\n",
        "        loss = criterion(outputs, labels)\n",
        "        \n",
        "        # Backward pass and optimization\n",
        "        loss.backward()\n",
        "        optimizer.step()\n",
        "        \n",
        "        # Track the training loss\n",
        "        running_train_loss += loss.item()\n",
        "    \n",
        "    # Compute the test loss\n",
        "    running_test_loss = 0.0\n",
        "    with torch.no_grad():\n",
        "        for i, (images, labels) in enumerate(test_loader):\n",
        "            # Flatten the images into a 784-dimensional vector\n",
        "            images = images.view(-1, 784)\n",
        "            \n",
        "            # Forward pass\n",
        "            outputs = model(images)\n",
        "            loss = criterion(outputs, labels)\n",
        "            \n",
        "            # Track the test loss\n",
        "            running_test_loss += loss.item()\n",
        "    \n",
        "    # Print the training and test loss for each epoch\n",
        "    print('Epoch [{}/{}], Training Loss: {:.4f}, Test Loss: {:.4f}'.format(epoch+1, num_epochs, running_train_loss/len(train_loader), running_test_loss/len(test_loader)))\n",
        "    \n",
        "    # Append the training and test loss to their respective lists\n",
        "    train_loss.append(running_train_loss/len(train_loader))\n",
        "    test_loss.append(running_test_loss/len(test_loader))\n",
        "\n"
      ],
      "metadata": {
        "colab": {
          "base_uri": "https://localhost:8080/"
        },
        "id": "FofTQP0LZJ_5",
        "outputId": "9c496542-5cf2-47f8-9671-1cb38d623faa"
      },
      "execution_count": null,
      "outputs": [
        {
          "output_type": "stream",
          "name": "stdout",
          "text": [
            "Epoch [1/10], Training Loss: 1.6003, Test Loss: 1.5321\n",
            "Epoch [2/10], Training Loss: 1.5221, Test Loss: 1.5116\n",
            "Epoch [3/10], Training Loss: 1.5077, Test Loss: 1.5001\n",
            "Epoch [4/10], Training Loss: 1.4982, Test Loss: 1.5000\n",
            "Epoch [5/10], Training Loss: 1.4926, Test Loss: 1.4967\n",
            "Epoch [6/10], Training Loss: 1.4880, Test Loss: 1.4916\n",
            "Epoch [7/10], Training Loss: 1.4851, Test Loss: 1.4920\n",
            "Epoch [8/10], Training Loss: 1.4828, Test Loss: 1.4888\n",
            "Epoch [9/10], Training Loss: 1.4814, Test Loss: 1.4897\n",
            "Epoch [10/10], Training Loss: 1.4791, Test Loss: 1.4894\n"
          ]
        }
      ]
    },
    {
      "cell_type": "code",
      "source": [],
      "metadata": {
        "id": "KawnjreOfMn7"
      },
      "execution_count": null,
      "outputs": []
    },
    {
      "cell_type": "code",
      "source": [
        "# Plot the training and test loss curves\n",
        "plt.plot(train_loss, label='Training Loss')\n",
        "plt.plot(test_loss, label='Test Loss')\n",
        "plt.xlabel('Iterations')\n",
        "plt.ylabel('Loss')\n",
        "plt.legend()\n",
        "plt.show()\n"
      ],
      "metadata": {
        "colab": {
          "base_uri": "https://localhost:8080/",
          "height": 279
        },
        "id": "NdzwfEEPZPR3",
        "outputId": "a4ec46c6-f2cc-4b59-99f9-99d59c4608a8"
      },
      "execution_count": 26,
      "outputs": [
        {
          "output_type": "display_data",
          "data": {
            "text/plain": [
              "<Figure size 432x288 with 1 Axes>"
            ],
            "image/png": "[encoded data removed]"
          },
          "metadata": {
            "needs_background": "light"
          }
        }
      ]
    }
  ]
}